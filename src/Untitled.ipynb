{
 "cells": [
  {
   "cell_type": "code",
   "execution_count": 24,
   "id": "38808b59",
   "metadata": {},
   "outputs": [],
   "source": [
    "from py2va import NN2Va\n",
    "import os\n",
    "import numpy as np\n",
    "import pickle"
   ]
  },
  {
   "cell_type": "code",
   "execution_count": 25,
   "id": "7b50fab5",
   "metadata": {},
   "outputs": [],
   "source": [
    "new_model = NN2Va()"
   ]
  },
  {
   "cell_type": "code",
   "execution_count": 26,
   "id": "850ce760",
   "metadata": {},
   "outputs": [
    {
     "name": "stdout",
     "output_type": "stream",
     "text": [
      "[[19, 22], [43, 50]]\n",
      "['relu(bias_C_0_0 + A_0_0 * B_0_0 + A_0_1 * B_1_0, C_0_0)', 'relu(bias_C_0_1 + A_0_0 * B_0_1 + A_0_1 * B_1_1, C_0_1)', 'relu(bias_C_1_0 + A_1_0 * B_0_0 + A_1_1 * B_1_0, C_1_0)', 'relu(bias_C_1_1 + A_1_0 * B_0_1 + A_1_1 * B_1_1, C_1_1)']\n"
     ]
    }
   ],
   "source": [
    "#Example:\n",
    "matrix1 = [[1, 2], [3, 4]]\n",
    "matrix2 = [[5, 6], [7, 8]]\n",
    "\n",
    "# Perform matrix multiplication\n",
    "result, operations = new_model.matrix_multiply(matrix1, matrix2, \"A\", \"B\", \"C\")\n",
    "\n",
    "# Print results\n",
    "print(result)\n",
    "print(operations)"
   ]
  },
  {
   "cell_type": "code",
   "execution_count": 27,
   "id": "fef8bb79",
   "metadata": {},
   "outputs": [],
   "source": [
    "#Now in order to write the verilog-a code:\n",
    "# Let's say we want to write that C = A.B:\n",
    "# We use matrix_mutply(A, B, \"A\", \"B\", \"C\")"
   ]
  },
  {
   "cell_type": "code",
   "execution_count": 28,
   "id": "68c4b396",
   "metadata": {},
   "outputs": [],
   "source": [
    "#Now import bias and weight matrices from the neural netwokr:\n",
    "os.chdir(r'C:\\Users\\Sami EL NAKOUZI\\Documents\\Sami_PhD\\Work2024\\February_2024\\data')\n",
    "\n",
    "size=10\n",
    "die= 1\n",
    "\n",
    "open_file = open(str(size)+'mic_D'+str(die)+'_weights.pkl', \"rb\") #A list of all the weight matrices\n",
    "weights = pickle.load(open_file)\n",
    "open_file.close()\n",
    "\n",
    "open_file = open(str(size)+'mic_D'+str(die)+'_biases.pkl', \"rb\") #A list of all the bias matrices\n",
    "bias = pickle.load(open_file)\n",
    "open_file.close()"
   ]
  },
  {
   "cell_type": "code",
   "execution_count": 15,
   "id": "407d4bed",
   "metadata": {},
   "outputs": [],
   "source": [
    "# Define the weight matrices to multiply\n",
    "matrix_a = [[1, 1, 1, 1, 1]]  #CHANGE THE ORDER IN THE MATRIX MULTIPLICATION FUNCTION\n",
    "matrix_b = weights[0]\n",
    "matrix_d = weights[1]\n",
    "matrix_f = weights[2]\n",
    "\n",
    "bias_l1= [bias[0]]\n",
    "bias_l2 = [bias[1]]\n",
    "bias_l3= [bias[2]]\n",
    "#Rows and colums of each weight matrix\n",
    "row_a, col_a = len(matrix_a), len(matrix_a[0])\n",
    "row_b, col_b = len(matrix_b), len(matrix_b[0])\n",
    "row_d, col_d = len(matrix_d), len(matrix_d[0])\n",
    "row_f, col_f = len(matrix_f), len(matrix_f[0])\n",
    "\n",
    "#Rows and colums of each bias matrix\n",
    "row_bl1, col_bl1 = len(bias_l1), len(bias_l1[0])\n",
    "row_bl2, col_bl2 = len(bias_l2), len(bias_l2[0])\n",
    "row_bl3, col_bl3 = len(bias_l3), len(bias_l3[0])"
   ]
  },
  {
   "cell_type": "code",
   "execution_count": null,
   "id": "29342833",
   "metadata": {},
   "outputs": [],
   "source": []
  }
 ],
 "metadata": {
  "kernelspec": {
   "display_name": "Python 3 (ipykernel)",
   "language": "python",
   "name": "python3"
  },
  "language_info": {
   "codemirror_mode": {
    "name": "ipython",
    "version": 3
   },
   "file_extension": ".py",
   "mimetype": "text/x-python",
   "name": "python",
   "nbconvert_exporter": "python",
   "pygments_lexer": "ipython3",
   "version": "3.11.5"
  }
 },
 "nbformat": 4,
 "nbformat_minor": 5
}
